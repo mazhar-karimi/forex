{
 "cells": [
  {
   "cell_type": "code",
   "execution_count": null,
   "metadata": {
    "collapsed": true
   },
   "outputs": [],
   "source": [
    "\n",
    "import matplotlib.pyplot as plt\n",
    "import datetime\n",
    "\n",
    "values_arr = []\n",
    "labels_arr = []\n",
    "\n",
    "with open('dollar_1995_20180726_raw.txt') as file_object:\n",
    "    for line in file_object:\n",
    "        if line.startswith('&values='):\n",
    "            values_str = line[8:-2]\n",
    "            values_arr = [round(float(x),2) for x in values_str.split(',')]\n",
    "            values_arr = values_arr[:]\n",
    "        if line.startswith('&x_labels='):\n",
    "            labels_str = line[10:-2]\n",
    "            labels_arr = [datetime.datetime.strptime(x.replace('%2F', '/'), \"%d/%m/%Y\").date()  for x in labels_str.split(',')]\n",
    "            labels_arr = labels_arr[:]\n",
    "\n",
    "values_arr_com = []\n",
    "labels_arr_com = []\n",
    "prev = values_arr[0]\n",
    "\n",
    "for x in range(0,len(labels_arr)):\n",
    "    if values_arr[x] != prev:\n",
    "          values_arr_com.append(values_arr[x])\n",
    "          labels_arr_com.append(labels_arr[x])\n",
    "    prev = values_arr[x]\n",
    "\n",
    "#print(values_arr_com)\n",
    "plt.title('Dollar Rate from 1995-2018')\n",
    "plt.xlabel('Date')\n",
    "plt.ylabel('Rs')\n",
    "#plt.axis([1995, 2018, 25, 140])\n",
    "x = [i for i in range(1,len(labels_arr_com)+1)]\n",
    "plt.plot(labels_arr_com, values_arr_com)\n",
    "plt.show()\n"
   ]
  }
 ],
 "metadata": {
  "kernelspec": {
   "display_name": "Python 2",
   "language": "python",
   "name": "python2"
  },
  "language_info": {
   "codemirror_mode": {
    "name": "ipython",
    "version": 2.0
   },
   "file_extension": ".py",
   "mimetype": "text/x-python",
   "name": "python",
   "nbconvert_exporter": "python",
   "pygments_lexer": "ipython2",
   "version": "2.7.6"
  }
 },
 "nbformat": 4,
 "nbformat_minor": 0
}